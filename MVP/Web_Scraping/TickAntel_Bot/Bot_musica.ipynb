{
 "cells": [
  {
   "cell_type": "code",
   "execution_count": 2,
   "id": "b3094366",
   "metadata": {},
   "outputs": [
    {
     "name": "stdout",
     "output_type": "stream",
     "text": [
      "Number of scraped images:  59\n",
      "100% [............................................................................] 311085 / 31108510\n",
      "100% [............................................................................] 322628 / 32262816\n",
      "17\n",
      "100% [............................................................................] 244745 / 24474520\n",
      "100% [............................................................................] 145184 / 14518425\n",
      "100% [..............................................................................] 57000 / 5700035\n",
      "100% [............................................................................] 130973 / 13097339\n",
      "100% [............................................................................] 233031 / 23303151\n",
      "52\n",
      "53\n",
      "54\n",
      "100% [..............................................................................] 58620 / 5862056\n",
      "100% [............................................................................] 113227 / 113227"
     ]
    }
   ],
   "source": [
    "from selenium import webdriver\n",
    "from selenium.webdriver.common.by import By\n",
    "from selenium.webdriver.support.wait import WebDriverWait\n",
    "from selenium.webdriver.support import expected_conditions as EC\n",
    "from selenium.webdriver.common.keys import Keys\n",
    "import time\n",
    "import os\n",
    "import wget\n",
    "\n",
    "#entrada al navegaador y a tickantel\n",
    "driver = webdriver.Chrome()\n",
    "driver.get(\"https://tickantel.com.uy\")\n",
    "time.sleep(3)\n",
    "\n",
    "#pickeo_teatros\n",
    "teatro = WebDriverWait(driver, 10).until(EC.element_to_be_clickable((By.XPATH, \"//*[@id='ida']/ul/li[2]/a/span\"))).click()\n",
    "time.sleep(5)\n",
    "\n",
    "#scroll\n",
    "scrolldown = driver.execute_script(\n",
    "    \"window.scrollTo(0, document.body.scrollHeight);var scrolldown=document.body.scrollHeight;return scrolldown;\")\n",
    "match = False\n",
    "while (match == False):\n",
    "    last_count = scrolldown\n",
    "    time.sleep(3)\n",
    "    scrolldown = driver.execute_script(\n",
    "        \"window.scrollTo(0, document.body.scrollHeight);var scrolldown=document.body.scrollHeight;return scrolldown;\")\n",
    "    if last_count == scrolldown:\n",
    "        match = True\n",
    "time.sleep(3)\n",
    "        \n",
    "\n",
    "        \n",
    "#encuentra imagenes\n",
    "images = []\n",
    "images = driver.find_elements(By.TAG_NAME, 'img')\n",
    "\n",
    "images = [image.get_attribute('src') for image in images]\n",
    "images = images[:75]\n",
    "\n",
    "print('Number of scraped images: ', len(images))\n",
    "\n",
    "time.sleep(3)\n",
    "path = os.getcwd()\n",
    "path = os.path.join(path, \"Scrapeo\")\n",
    "\n",
    "#create the directory\n",
    "os.mkdir(path)\n",
    "\n",
    "path\n",
    "\n",
    "time.sleep(3)\n",
    "\n",
    "counter = 0\n",
    "for image in images:\n",
    "    try:\n",
    "        save_as = os.path.join(path, str(counter) + '.jpg')\n",
    "        wget.download(images[counter], save_as)\n",
    "        counter += 1\n",
    "    except:\n",
    "        counter += 1\n",
    "        print(counter)"
   ]
  },
  {
   "cell_type": "code",
   "execution_count": null,
   "id": "276aa64b",
   "metadata": {},
   "outputs": [],
   "source": []
  }
 ],
 "metadata": {
  "kernelspec": {
   "display_name": "Python 3 (ipykernel)",
   "language": "python",
   "name": "python3"
  },
  "language_info": {
   "codemirror_mode": {
    "name": "ipython",
    "version": 3
   },
   "file_extension": ".py",
   "mimetype": "text/x-python",
   "name": "python",
   "nbconvert_exporter": "python",
   "pygments_lexer": "ipython3",
   "version": "3.10.9"
  }
 },
 "nbformat": 4,
 "nbformat_minor": 5
}
